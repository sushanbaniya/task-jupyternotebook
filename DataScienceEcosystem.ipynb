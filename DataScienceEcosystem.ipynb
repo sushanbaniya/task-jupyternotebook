{
 "cells": [
  {
   "cell_type": "markdown",
   "id": "e007195e-09bb-4162-8a66-8aac7d44a95f",
   "metadata": {},
   "source": [
    "# Data Science Tools and Ecosystem"
   ]
  },
  {
   "cell_type": "markdown",
   "id": "47f5d433-7124-42f4-9322-901e65542590",
   "metadata": {},
   "source": [
    "In this notebook, Data science tools and ecosystem are summarized"
   ]
  },
  {
   "cell_type": "markdown",
   "id": "f68230e8-5e34-445d-9d36-69d24f6a4e33",
   "metadata": {},
   "source": [
    "**Objectives:**\n",
    "- List Popular languages for data science.\n",
    "- Common libraries used by data scientists.\n",
    "- Data Science Tools\n",
    "- Evaluate Arithmetic expressions"
   ]
  },
  {
   "cell_type": "markdown",
   "id": "874671ae-7481-4741-ac57-2f7f8984191f",
   "metadata": {},
   "source": [
    "Some of the popular languages that data scientists use are:\n",
    "1. Python\n",
    "2. R\n",
    "3. Java\n",
    "4. JavaScript\n",
    "5. C++"
   ]
  },
  {
   "cell_type": "markdown",
   "id": "16576f4e-63a1-426c-bd1d-ed4b037172ff",
   "metadata": {},
   "source": [
    "Some of the common libraries used by data scientists are:\n",
    "1. Panda\n",
    "2. NumPy\n",
    "3. Scikit\n",
    "4. Matplotlib\n",
    "5. Keras\n",
    "6. TensorFlow"
   ]
  },
  {
   "cell_type": "markdown",
   "id": "b3e6af86-c1c0-4e79-8bbd-dce8c53ccb61",
   "metadata": {},
   "source": [
    "|Data Science Tools|\n",
    "--------------------\n",
    "|Jupyter Notebook  |\n",
    "|R Studio          |\n",
    "|Zeppelin Notebook |"
   ]
  },
  {
   "cell_type": "markdown",
   "id": "8a74bd4a-3536-4399-9084-f867b59e25be",
   "metadata": {},
   "source": [
    "### Below are few examples of evaluating arithmetic expressions in Python"
   ]
  },
  {
   "cell_type": "code",
   "execution_count": 2,
   "id": "31fa9508-f0d8-4b5a-b47e-9aac732f825a",
   "metadata": {},
   "outputs": [
    {
     "data": {
      "text/plain": [
       "17"
      ]
     },
     "execution_count": 2,
     "metadata": {},
     "output_type": "execute_result"
    }
   ],
   "source": [
    "# This is a simple arithmetic expression to multiply then add integers\n",
    "(3*4)+5"
   ]
  },
  {
   "cell_type": "code",
   "execution_count": 4,
   "id": "841f4d81-64bc-4ec7-b472-46c0ce642dfd",
   "metadata": {},
   "outputs": [
    {
     "name": "stdout",
     "output_type": "stream",
     "text": [
      "3.3333333333333335\n"
     ]
    }
   ],
   "source": [
    "# This will convert 200 minutes to hours by dividing by 60\n",
    "min = 200\n",
    "hours = min / 60\n",
    "print(hours)"
   ]
  },
  {
   "cell_type": "markdown",
   "id": "6fe79e18-03dc-4416-bf24-8303c1b0089e",
   "metadata": {},
   "source": [
    "## Author\n",
    "SUSHAN BANIYA"
   ]
  },
  {
   "cell_type": "code",
   "execution_count": null,
   "id": "cc440e3a-76b5-4cb0-a4e6-9933b4491337",
   "metadata": {},
   "outputs": [],
   "source": []
  }
 ],
 "metadata": {
  "kernelspec": {
   "display_name": "Python 3 (ipykernel)",
   "language": "python",
   "name": "python3"
  },
  "language_info": {
   "codemirror_mode": {
    "name": "ipython",
    "version": 3
   },
   "file_extension": ".py",
   "mimetype": "text/x-python",
   "name": "python",
   "nbconvert_exporter": "python",
   "pygments_lexer": "ipython3",
   "version": "3.11.7"
  }
 },
 "nbformat": 4,
 "nbformat_minor": 5
}
